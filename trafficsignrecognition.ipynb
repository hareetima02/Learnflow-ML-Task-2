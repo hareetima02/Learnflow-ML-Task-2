{
 "cells": [
  {
   "cell_type": "code",
   "execution_count": 109,
   "id": "498a3eb8-3c9e-490b-b378-6f13516448c7",
   "metadata": {},
   "outputs": [],
   "source": [
    "import numpy as np \n",
    "import pandas as pd \n",
    "import matplotlib.pyplot as plt\n",
    "import cv2\n",
    "import tensorflow as tf\n",
    "from PIL import Image\n",
    "import os\n",
    "os.chdir(\"C:\\\\Users\\\\Hareetima\\\\OneDrive\\\\Desktop\\\\learnflow\")\n",
    "from sklearn.model_selection import train_test_split\n",
    "from keras.utils import to_categorical\n",
    "from keras.models import Sequential, load_model\n",
    "from keras.layers import Conv2D, MaxPool2D, Dense, Flatten, Dropout"
   ]
  },
  {
   "cell_type": "code",
   "execution_count": 110,
   "id": "1797dbcd-77ad-473a-8f8f-f2094be6cd89",
   "metadata": {},
   "outputs": [],
   "source": [
    "data = []\n",
    "labels = []\n",
    "# We have 43 Classes\n",
    "classes = 43\n",
    "cur_path = os.getcwd()"
   ]
  },
  {
   "cell_type": "code",
   "execution_count": 111,
   "id": "89ae5a00-2d71-4233-977a-582a220b7f1e",
   "metadata": {},
   "outputs": [
    {
     "data": {
      "text/plain": [
       "'C:\\\\Users\\\\Hareetima\\\\OneDrive\\\\Desktop\\\\learnflow'"
      ]
     },
     "execution_count": 111,
     "metadata": {},
     "output_type": "execute_result"
    }
   ],
   "source": [
    "cur_path"
   ]
  },
  {
   "cell_type": "code",
   "execution_count": 113,
   "id": "eb0860be-f717-48d2-916a-2fb518c1376d",
   "metadata": {},
   "outputs": [],
   "source": [
    "for i in range(classes):\n",
    "    path = os.path.join(cur_path,'train',str(i))\n",
    "    images = os.listdir(path)\n",
    "    for a in images:\n",
    "        try:\n",
    "            image = Image.open(path + '\\\\'+ a)\n",
    "            image = image.resize((30,30))\n",
    "            image = np.array(image)\n",
    "            data.append(image)\n",
    "            labels.append(i)\n",
    "        except Exception as e:\n",
    "            print(e)"
   ]
  },
  {
   "cell_type": "code",
   "execution_count": 114,
   "id": "a6728934-e513-4914-b975-c07bd3099298",
   "metadata": {},
   "outputs": [],
   "source": [
    "#converting list into numpy array\n",
    "data = np.array(data)\n",
    "labels = np.array(labels)"
   ]
  },
  {
   "cell_type": "code",
   "execution_count": null,
   "id": "62b66ecb-b39c-4fff-a796-675b6fbededd",
   "metadata": {},
   "outputs": [],
   "source": [
    "\n"
   ]
  },
  {
   "cell_type": "code",
   "execution_count": 115,
   "id": "cf10420b-b221-4d31-8232-fabf10d8d29c",
   "metadata": {},
   "outputs": [],
   "source": [
    "#saving labels and data for future use\n",
    "# os.mkdir('training')\n",
    "#np.save('C:\\\\Users\\\\Hareetima\\\\OneDrive\\\\Desktop\\\\learnflow\\\\archive (1).zip\\\\Train', data)\n",
    "np.save('./training/data',data)\n",
    "np.save('./training/target',labels)\n",
    "#np.save('./train',data)\n",
    "#np.save('./test',labels)"
   ]
  },
  {
   "cell_type": "code",
   "execution_count": 116,
   "id": "9ec6c09b-0ca7-4abc-a8b1-0c4005f59cae",
   "metadata": {},
   "outputs": [],
   "source": [
    "#load data and labels\n",
    "data=np.load('./training/data.npy')\n",
    "labels=np.load('./training/target.npy')"
   ]
  },
  {
   "cell_type": "code",
   "execution_count": 117,
   "id": "1f6c7edf-bb76-4024-8811-e42e76aa6c54",
   "metadata": {},
   "outputs": [
    {
     "name": "stdout",
     "output_type": "stream",
     "text": [
      "(78418, 30, 30, 3) (78418,)\n"
     ]
    }
   ],
   "source": [
    "print(data.shape, labels.shape)"
   ]
  },
  {
   "cell_type": "code",
   "execution_count": 118,
   "id": "72384fb6-b03e-47e2-a491-4a78a1768675",
   "metadata": {},
   "outputs": [],
   "source": [
    "X_train, X_test, y_train, y_test = train_test_split(data, labels, test_size=0.2, random_state=0)"
   ]
  },
  {
   "cell_type": "code",
   "execution_count": 119,
   "id": "1a5004be-1199-4a86-b109-d68504f2bfc5",
   "metadata": {},
   "outputs": [
    {
     "name": "stdout",
     "output_type": "stream",
     "text": [
      "(62734, 30, 30, 3) (15684, 30, 30, 3) (62734,) (15684,)\n"
     ]
    }
   ],
   "source": [
    "print(X_train.shape, X_test.shape, y_train.shape, y_test.shape)"
   ]
  },
  {
   "cell_type": "code",
   "execution_count": 120,
   "id": "8908056c-0e82-43bd-8f79-64b0db7de629",
   "metadata": {},
   "outputs": [],
   "source": [
    "#Convert labels to onehot encoding\n",
    "y_train = to_categorical(y_train, 43)\n",
    "y_test = to_categorical(y_test, 43)"
   ]
  },
  {
   "cell_type": "code",
   "execution_count": 121,
   "id": "bf588a05-5235-4589-9f70-aa1985a1d7c4",
   "metadata": {},
   "outputs": [],
   "source": [
    "#now buildinf model\n",
    "\n",
    "model = Sequential()\n",
    "model.add(Conv2D(filters=32, kernel_size=(5,5), activation='relu', input_shape=X_train.shape[1:]))\n",
    "model.add(Conv2D(filters=32, kernel_size=(5,5), activation='relu'))\n",
    "model.add(MaxPool2D(pool_size=(2, 2)))\n",
    "model.add(Dropout(rate=0.25))\n",
    "model.add(Conv2D(filters=64, kernel_size=(3, 3), activation='relu'))\n",
    "model.add(Conv2D(filters=64, kernel_size=(3, 3), activation='relu'))\n",
    "model.add(MaxPool2D(pool_size=(2, 2)))\n",
    "model.add(Dropout(rate=0.25))\n",
    "model.add(Flatten())\n",
    "model.add(Dense(256, activation='relu'))\n",
    "model.add(Dropout(rate=0.5))\n",
    "# We have 43 classes that's why we have defined 43 in the dense\n",
    "model.add(Dense(43, activation='softmax'))"
   ]
  },
  {
   "cell_type": "code",
   "execution_count": 122,
   "id": "7fe87c88-a6c8-46e0-9296-0904482ea3ed",
   "metadata": {},
   "outputs": [],
   "source": [
    "#Compilation of the model\n",
    "model.compile(loss='categorical_crossentropy', optimizer='adam', metrics=['accuracy'])"
   ]
  },
  {
   "cell_type": "code",
   "execution_count": 123,
   "id": "9a7273ee-3efb-4def-aef9-a320035ddaaf",
   "metadata": {},
   "outputs": [
    {
     "name": "stdout",
     "output_type": "stream",
     "text": [
      "Epoch 1/20\n",
      "1961/1961 [==============================] - 48s 24ms/step - loss: 1.4432 - accuracy: 0.6166 - val_loss: 0.2879 - val_accuracy: 0.9214\n",
      "Epoch 2/20\n",
      "1961/1961 [==============================] - 48s 25ms/step - loss: 0.4439 - accuracy: 0.8705 - val_loss: 0.1086 - val_accuracy: 0.9704\n",
      "Epoch 3/20\n",
      "1961/1961 [==============================] - 50s 25ms/step - loss: 0.2908 - accuracy: 0.9177 - val_loss: 0.0945 - val_accuracy: 0.9737\n",
      "Epoch 4/20\n",
      "1961/1961 [==============================] - 50s 26ms/step - loss: 0.2573 - accuracy: 0.9287 - val_loss: 0.0556 - val_accuracy: 0.9838\n",
      "Epoch 5/20\n",
      "1961/1961 [==============================] - 55s 28ms/step - loss: 0.2295 - accuracy: 0.9382 - val_loss: 0.0711 - val_accuracy: 0.9801\n",
      "Epoch 6/20\n",
      "1961/1961 [==============================] - 60s 31ms/step - loss: 0.2278 - accuracy: 0.9391 - val_loss: 0.0549 - val_accuracy: 0.9844\n",
      "Epoch 7/20\n",
      "1961/1961 [==============================] - 58s 30ms/step - loss: 0.2081 - accuracy: 0.9457 - val_loss: 0.0292 - val_accuracy: 0.9920\n",
      "Epoch 8/20\n",
      "1961/1961 [==============================] - 59s 30ms/step - loss: 0.2184 - accuracy: 0.9444 - val_loss: 0.0498 - val_accuracy: 0.9853\n",
      "Epoch 9/20\n",
      "1961/1961 [==============================] - 58s 30ms/step - loss: 0.2030 - accuracy: 0.9487 - val_loss: 0.0558 - val_accuracy: 0.9825\n",
      "Epoch 10/20\n",
      "1961/1961 [==============================] - 60s 30ms/step - loss: 0.2008 - accuracy: 0.9506 - val_loss: 0.0384 - val_accuracy: 0.9890\n",
      "Epoch 11/20\n",
      "1961/1961 [==============================] - 61s 31ms/step - loss: 0.2115 - accuracy: 0.9483 - val_loss: 0.0424 - val_accuracy: 0.9885\n",
      "Epoch 12/20\n",
      "1961/1961 [==============================] - 61s 31ms/step - loss: 0.2206 - accuracy: 0.9484 - val_loss: 0.0682 - val_accuracy: 0.9806\n",
      "Epoch 13/20\n",
      "1961/1961 [==============================] - 61s 31ms/step - loss: 0.1919 - accuracy: 0.9545 - val_loss: 0.0336 - val_accuracy: 0.9909\n",
      "Epoch 14/20\n",
      "1961/1961 [==============================] - 62s 32ms/step - loss: 0.2128 - accuracy: 0.9494 - val_loss: 0.0576 - val_accuracy: 0.9818\n",
      "Epoch 15/20\n",
      "1961/1961 [==============================] - 58s 30ms/step - loss: 0.2361 - accuracy: 0.9463 - val_loss: 0.0297 - val_accuracy: 0.9911\n",
      "Epoch 16/20\n",
      "1961/1961 [==============================] - 59s 30ms/step - loss: 0.2099 - accuracy: 0.9530 - val_loss: 0.0545 - val_accuracy: 0.9854\n",
      "Epoch 17/20\n",
      "1961/1961 [==============================] - 60s 31ms/step - loss: 0.2579 - accuracy: 0.9445 - val_loss: 0.0507 - val_accuracy: 0.9864\n",
      "Epoch 18/20\n",
      "1961/1961 [==============================] - 59s 30ms/step - loss: 0.2503 - accuracy: 0.9447 - val_loss: 0.0528 - val_accuracy: 0.9847\n",
      "Epoch 19/20\n",
      "1961/1961 [==============================] - 60s 31ms/step - loss: 0.2426 - accuracy: 0.9489 - val_loss: 0.0322 - val_accuracy: 0.9921\n",
      "Epoch 20/20\n",
      "1961/1961 [==============================] - 61s 31ms/step - loss: 0.2294 - accuracy: 0.9483 - val_loss: 0.0399 - val_accuracy: 0.9902\n"
     ]
    }
   ],
   "source": [
    "epochs = 20\n",
    "history = model.fit(X_train, y_train, batch_size=32, epochs=epochs, validation_data=(X_test, y_test))"
   ]
  },
  {
   "cell_type": "code",
   "execution_count": 124,
   "id": "6cc32cc3-39c2-4042-ba79-655d549ad152",
   "metadata": {},
   "outputs": [
    {
     "data": {
      "image/png": "[encoded data removed]",
      "text/plain": [
       "<Figure size 640x480 with 1 Axes>"
      ]
     },
     "metadata": {},
     "output_type": "display_data"
    }
   ],
   "source": [
    "# accuracy \n",
    "plt.figure(0)\n",
    "plt.plot(history.history['accuracy'], label='training accuracy')\n",
    "plt.plot(history.history['val_accuracy'], label='val accuracy')\n",
    "plt.title('Accuracy')\n",
    "plt.xlabel('epochs')\n",
    "plt.ylabel('accuracy')\n",
    "plt.legend()\n",
    "plt.show()"
   ]
  },
  {
   "cell_type": "code",
   "execution_count": 125,
   "id": "2c162991-c8c7-4c1d-b62c-7bd56b524f1f",
   "metadata": {},
   "outputs": [
    {
     "data": {
      "image/png": "[encoded data removed]",
      "text/plain": [
       "<Figure size 640x480 with 1 Axes>"
      ]
     },
     "metadata": {},
     "output_type": "display_data"
    }
   ],
   "source": [
    "# Loss\n",
    "plt.plot(history.history['loss'], label='training loss')\n",
    "plt.plot(history.history['val_loss'], label='val loss')\n",
    "plt.title('Loss')\n",
    "plt.xlabel('epochs')\n",
    "plt.ylabel('loss')\n",
    "plt.legend()\n",
    "plt.show()"
   ]
  },
  {
   "cell_type": "code",
   "execution_count": 126,
   "id": "a48b0682-6d10-45cc-bc01-207e2041bc0e",
   "metadata": {},
   "outputs": [],
   "source": [
    "#testing on test data"
   ]
  },
  {
   "cell_type": "code",
   "execution_count": 127,
   "id": "3ec531f3-6a6d-4016-b59a-57662e6c807c",
   "metadata": {},
   "outputs": [],
   "source": [
    "def testing(testcsv):\n",
    "    y_test = pd.read_csv(testcsv)\n",
    "    label = y_test[\"ClassId\"].values\n",
    "    imgs = y_test[\"Path\"].values\n",
    "    data=[]\n",
    "    for img in imgs:\n",
    "        image = Image.open(img)\n",
    "        image = image.resize((30,30))\n",
    "        data.append(np.array(image))\n",
    "    X_test=np.array(data)\n",
    "    return X_test,label"
   ]
  },
  {
   "cell_type": "code",
   "execution_count": 130,
   "id": "ea9c8be7-b02d-4f38-a4dc-d2107cd151b0",
   "metadata": {},
   "outputs": [],
   "source": [
    "X_test, label = testing('Test.csv')"
   ]
  },
  {
   "cell_type": "code",
   "execution_count": 145,
   "id": "02aa8aa8-3d58-48c3-a309-0ed1f0c60b81",
   "metadata": {},
   "outputs": [
    {
     "name": "stdout",
     "output_type": "stream",
     "text": [
      "395/395 [==============================] - 5s 14ms/step\n"
     ]
    },
    {
     "data": {
      "text/plain": [
       "array([16,  1, 38, ..., 32,  7, 10], dtype=int64)"
      ]
     },
     "execution_count": 145,
     "metadata": {},
     "output_type": "execute_result"
    }
   ],
   "source": [
    "# Assuming 'model' is your Keras Sequential model\n",
    "Y_pred_probabilities = model.predict(X_test)\n",
    "Y_pred_classes = np.argmax(Y_pred_probabilities, axis=1)\n",
    "\n",
    "# Now 'Y_pred_classes' contains the predicted class labels for each sample\n",
    "Y_pred_classes"
   ]
  },
  {
   "cell_type": "code",
   "execution_count": null,
   "id": "d001c0da-7040-4b5b-bbf0-376e63c096f3",
   "metadata": {},
   "outputs": [],
   "source": []
  },
  {
   "cell_type": "code",
   "execution_count": null,
   "id": "124432bb-af35-47fd-93c5-a206a3665cf9",
   "metadata": {},
   "outputs": [],
   "source": []
  },
  {
   "cell_type": "code",
   "execution_count": 149,
   "id": "ed53c94b-c522-4728-bc43-8e858ddbef5f",
   "metadata": {},
   "outputs": [
    {
     "name": "stdout",
     "output_type": "stream",
     "text": [
      "0.9586698337292161\n"
     ]
    }
   ],
   "source": [
    "#Accuracy with the test data\n",
    "from sklearn.metrics import accuracy_score\n",
    "print(accuracy_score(label, Y_pred_classes))"
   ]
  },
  {
   "cell_type": "code",
   "execution_count": 150,
   "id": "e92efbcc-c2c1-425b-b558-f630dd8198dd",
   "metadata": {},
   "outputs": [
    {
     "name": "stderr",
     "output_type": "stream",
     "text": [
      "C:\\Users\\Hareetima\\AppData\\Local\\Programs\\Python\\Python311\\Lib\\site-packages\\keras\\src\\engine\\training.py:3103: UserWarning: You are saving your model as an HDF5 file via `model.save()`. This file format is considered legacy. We recommend using instead the native Keras format, e.g. `model.save('my_model.keras')`.\n",
      "  saving_api.save_model(\n"
     ]
    }
   ],
   "source": [
    "model.save(\"./training/TSR.h5\")"
   ]
  },
  {
   "cell_type": "code",
   "execution_count": 151,
   "id": "56dbdff4-ad3c-4c3c-b66a-5d9a325b5c36",
   "metadata": {},
   "outputs": [],
   "source": [
    "def image_processing(img):\n",
    "    model = load_model('./model/traffic_classifier.h5')\n",
    "    image = Image.open(img)\n",
    "    image = image.resize((30,30))\n",
    "    image = np.expand_dims(image, axis=0)\n",
    "    image = np.array(image)\n",
    "    predict_x=model.predict(image)\n",
    "    classes_x=np.argmax(predict_x,axis=1)\n",
    "    sign = classes[int(classes_x)]\n",
    "    return sign     #return index of classes"
   ]
  },
  {
   "cell_type": "code",
   "execution_count": 152,
   "id": "bd7e7959-edbb-4884-9bb2-f2efc90525b6",
   "metadata": {},
   "outputs": [],
   "source": [
    "# Classes of trafic signs\n",
    "classes = { 0:'Speed limit (20km/h)',\n",
    "            1:'Speed limit (30km/h)', \n",
    "            2:'Speed limit (50km/h)', \n",
    "            3:'Speed limit (60km/h)', \n",
    "            4:'Speed limit (70km/h)', \n",
    "            5:'Speed limit (80km/h)', \n",
    "            6:'End of speed limit (80km/h)', \n",
    "            7:'Speed limit (100km/h)', \n",
    "            8:'Speed limit (120km/h)', \n",
    "            9:'No passing', \n",
    "            10:'No passing veh over 3.5 tons', \n",
    "            11:'Right-of-way at intersection', \n",
    "            12:'Priority road', \n",
    "            13:'Yield', \n",
    "            14:'Stop', \n",
    "            15:'No vehicles', \n",
    "            16:'Veh > 3.5 tons prohibited', \n",
    "            17:'No entry', \n",
    "            18:'General caution', \n",
    "            19:'Dangerous curve left', \n",
    "            20:'Dangerous curve right', \n",
    "            21:'Double curve', \n",
    "            22:'Bumpy road', \n",
    "            23:'Slippery road', \n",
    "            24:'Road narrows on the right', \n",
    "            25:'Road work',  \n",
    "            26:'Traffic signals', \n",
    "            27:'Pedestrians', \n",
    "            28:'Children crossing', \n",
    "            29:'Bicycles crossing', \n",
    "            30:'Beware of ice/snow',\n",
    "            31:'Wild animals crossing', \n",
    "            32:'End speed + passing limits', \n",
    "            33:'Turn right ahead', \n",
    "            34:'Turn left ahead', \n",
    "            35:'Ahead only', \n",
    "            36:'Go straight or right', \n",
    "            37:'Go straight or left', \n",
    "            38:'Keep right', \n",
    "            39:'Keep left', \n",
    "            40:'Roundabout mandatory', \n",
    "            41:'End of no passing', \n",
    "            42:'End no passing veh > 3.5 tons' }"
   ]
  },
  {
   "cell_type": "code",
   "execution_count": 153,
   "id": "c5352924-4468-4979-99da-300130471195",
   "metadata": {},
   "outputs": [],
   "source": [
    "from PIL import Image\n",
    "import numpy as np\n",
    "import matplotlib.pyplot as plt\n",
    "def test_on_img(img):\n",
    "    data=[]\n",
    "    image = Image.open(img)\n",
    "    image = image.resize((30,30))\n",
    "    data.append(np.array(image))\n",
    "    X_test=np.array(data)\n",
    "    Y_pred = model.predict_classes(X_test)\n",
    "    return image,Y_pred"
   ]
  },
  {
   "cell_type": "code",
   "execution_count": 157,
   "id": "a4798f0d-85a0-45c8-92a2-358b961724b0",
   "metadata": {},
   "outputs": [
    {
     "name": "stdout",
     "output_type": "stream",
     "text": [
      "1/1 [==============================] - 0s 28ms/step\n"
     ]
    },
    {
     "data": {
      "image/png": "[encoded data removed]",
      "text/plain": [
       "<Figure size 640x480 with 1 Axes>"
      ]
     },
     "metadata": {},
     "output_type": "display_data"
    }
   ],
   "source": [
    "import matplotlib.pyplot as plt\n",
    "\n",
    "def test_on_img(img_path):\n",
    "    data = []\n",
    "    if os.path.exists(img_path):\n",
    "        try:\n",
    "            if img_path.endswith('.npy'):\n",
    "                # Handle loading images from a NumPy file\n",
    "                data = np.load(img_path)\n",
    "            else:\n",
    "                # Handle loading a single image\n",
    "                image = Image.open(img_path)\n",
    "                image = image.resize((30, 30))\n",
    "                data.append(np.array(image))\n",
    "                \n",
    "            X_test = np.array(data)\n",
    "            Y_pred_probabilities = model.predict(X_test)\n",
    "            Y_pred_classes = np.argmax(Y_pred_probabilities, axis=1)\n",
    "            \n",
    "            return image, Y_pred_classes\n",
    "        except Exception as e:\n",
    "            print(f\"Error processing image: {e}\")\n",
    "            return None, None\n",
    "    else:\n",
    "        print(f\"Error: File not found at path: {img_path}\")\n",
    "        return None, None\n",
    "\n",
    "# Example usage\n",
    "image, prediction = test_on_img(r'C:\\\\Users\\\\Hareetima\\\\OneDrive\\\\Desktop\\\\learnflow\\\\Test\\\\00031.png')\n",
    "if image is not None and prediction is not None:\n",
    "    plt.imshow(image)\n",
    "    plt.title(f\"Predicted Class: {prediction[0]}\")  # Assuming you're interested in the first prediction\n",
    "    plt.axis('off')\n",
    "    plt.show()\n",
    "else:\n",
    "    print(\"Image data or prediction is not available.\")\n"
   ]
  },
  {
   "cell_type": "code",
   "execution_count": 165,
   "id": "a557c82c-8136-4e59-8569-fd6bf574c089",
   "metadata": {},
   "outputs": [
    {
     "name": "stdout",
     "output_type": "stream",
     "text": [
      "1/1 [==============================] - 0s 33ms/step\n"
     ]
    },
    {
     "data": {
      "image/png": "[encoded data removed]",
      "text/plain": [
       "<Figure size 640x480 with 1 Axes>"
      ]
     },
     "metadata": {},
     "output_type": "display_data"
    }
   ],
   "source": [
    "import matplotlib.pyplot as plt\n",
    "\n",
    "# Your classes dictionary\n",
    "#classes = { 0:'Speed limit (20km/h)', 1:'Speed limit (30km/h)', 2:'Speed limit (50km/h)', ... }\n",
    "\n",
    "def test_on_img(img_path):\n",
    "    data = []\n",
    "    if os.path.exists(img_path):\n",
    "        try:\n",
    "            if img_path.endswith('.npy'):\n",
    "                # Handle loading images from a NumPy file\n",
    "                data = np.load(img_path)\n",
    "            else:\n",
    "                # Handle loading a single image\n",
    "                image = Image.open(img_path)\n",
    "                image = image.resize((30, 30))\n",
    "                data.append(np.array(image))\n",
    "                \n",
    "            X_test = np.array(data)\n",
    "            Y_pred_probabilities = model.predict(X_test)\n",
    "            Y_pred_classes = np.argmax(Y_pred_probabilities, axis=1)\n",
    "            \n",
    "            return image, Y_pred_classes\n",
    "        except Exception as e:\n",
    "            print(f\"Error processing image: {e}\")\n",
    "            return None, None\n",
    "    else:\n",
    "        print(f\"Error: File not found at path: {img_path}\")\n",
    "        return None, None\n",
    "\n",
    "# Example usage\n",
    "image, prediction = test_on_img(r'C:\\\\Users\\\\Hareetima\\\\OneDrive\\\\Desktop\\\\learnflow\\\\Test\\\\00034.png')\n",
    "if image is not None and prediction is not None:\n",
    "    predicted_class_index = prediction[0]  # Assuming you're interested in the first prediction\n",
    "    predicted_class_name = classes.get(predicted_class_index, 'Unknown Class')\n",
    "    \n",
    "    plt.imshow(image)\n",
    "    plt.title(f\"Predicted Class: {predicted_class_name}\")\n",
    "    plt.axis('off')\n",
    "    plt.show()\n",
    "else:\n",
    "    print(\"Image data or prediction is not available.\")\n"
   ]
  },
  {
   "cell_type": "code",
   "execution_count": null,
   "id": "1b0a18f2-3f49-4a0b-843e-e7f1831fcc2a",
   "metadata": {},
   "outputs": [],
   "source": []
  },
  {
   "cell_type": "code",
   "execution_count": null,
   "id": "f30d52db-f89b-4d40-8f0e-ae9c8125f4c1",
   "metadata": {},
   "outputs": [],
   "source": []
  },
  {
   "cell_type": "code",
   "execution_count": null,
   "id": "e8b92014-ce00-4f4a-9ddd-04b4a7bf4c24",
   "metadata": {},
   "outputs": [],
   "source": []
  },
  {
   "cell_type": "code",
   "execution_count": null,
   "id": "8aa38a07-0759-4768-943a-4dd9ecb75c6d",
   "metadata": {},
   "outputs": [],
   "source": []
  },
  {
   "cell_type": "code",
   "execution_count": null,
   "id": "b356e48b-d91e-434b-bf18-25e1612587bf",
   "metadata": {},
   "outputs": [],
   "source": []
  },
  {
   "cell_type": "code",
   "execution_count": null,
   "id": "e5badc2e-41d2-4dc1-a8f2-442c8f8bb75a",
   "metadata": {},
   "outputs": [],
   "source": []
  },
  {
   "cell_type": "code",
   "execution_count": null,
   "id": "15543925-feaa-4a40-b715-99aea52cceba",
   "metadata": {},
   "outputs": [],
   "source": []
  },
  {
   "cell_type": "code",
   "execution_count": null,
   "id": "b79f62f9-1b89-4de7-ba66-11a895d4a931",
   "metadata": {},
   "outputs": [],
   "source": []
  },
  {
   "cell_type": "code",
   "execution_count": null,
   "id": "72856877-c6ff-424c-9dea-52c6ed7750c0",
   "metadata": {},
   "outputs": [],
   "source": []
  }
 ],
 "metadata": {
  "kernelspec": {
   "display_name": "Python 3 (ipykernel)",
   "language": "python",
   "name": "python3"
  },
  "language_info": {
   "codemirror_mode": {
    "name": "ipython",
    "version": 3
   },
   "file_extension": ".py",
   "mimetype": "text/x-python",
   "name": "python",
   "nbconvert_exporter": "python",
   "pygments_lexer": "ipython3",
   "version": "3.11.5"
  }
 },
 "nbformat": 4,
 "nbformat_minor": 5
}
